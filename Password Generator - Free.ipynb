{
 "cells": [
  {
   "cell_type": "code",
   "execution_count": null,
   "id": "b3228e1f",
   "metadata": {},
   "outputs": [],
   "source": [
    "# Password Generator - Free"
   ]
  },
  {
   "cell_type": "code",
   "execution_count": 5,
   "id": "4c8e3f65",
   "metadata": {},
   "outputs": [
    {
     "name": "stdout",
     "output_type": "stream",
     "text": [
      "Welcome to the pythonPassword Generator\n",
      "How many letters would you like in your password: 7\n",
      "How many symbols would you like: 4\n",
      "How many numbers would you like: 4\n",
      "(&yLX!ZW79&Ar57\n"
     ]
    }
   ],
   "source": [
    "import random\n",
    "\n",
    "letters = ['a', 'b', 'c', 'd', 'e', 'f', 'g', 'h', 'i', 'j', 'k', 'l', 'm', 'n', 'o', 'p', 'q', 'r', 's', 't', 'u', 'v', 'w', 'x', 'y', 'z', 'A', 'B', 'C', 'D', 'E', 'F', 'G', 'H', 'I', 'J', 'K', 'L', 'M', 'N', 'O', 'P', 'Q', 'R', 'S', 'T', 'U', 'V', 'W', 'X', 'Y', 'Z']\n",
    "numbers = ['0', '1', '2', '3', '4', '5', '6', '7', '8', '9']\n",
    "symbols = ['!', '#', '$', '%', '&', '(', ')', '*', '+']\n",
    "print(\"Welcome to the pythonPassword Generator\")\n",
    "aletters = int(input(\"How many letters would you like in your password: \"))\n",
    "bsymbols = int(input(\"How many symbols would you like: \"))\n",
    "cnumbers = int(input(\"How many numbers would you like: \"))\n",
    "password =[]\n",
    "for i in range(1,aletters+1):\n",
    "    password.append(random.choice(letters))\n",
    "#     print(b,end=\"\")\n",
    "for j in range(1,cnumbers+1):\n",
    "    password.append(random.choice(numbers))\n",
    "#     print(a,end=\"\")\n",
    "for k in range(1,bsymbols+1):\n",
    "    password.append(random.choice(symbols))\n",
    "#     print(a,end=\"\")\n",
    "random.shuffle(password)\n",
    "password_string =\"\"\n",
    "for l in password:\n",
    "    print(l,end = \"\")\n",
    "print(password_string)"
   ]
  },
  {
   "cell_type": "code",
   "execution_count": null,
   "id": "6ceef14b",
   "metadata": {},
   "outputs": [],
   "source": []
  },
  {
   "cell_type": "code",
   "execution_count": null,
   "id": "46bdb40f",
   "metadata": {},
   "outputs": [],
   "source": []
  }
 ],
 "metadata": {
  "kernelspec": {
   "display_name": "Python 3 (ipykernel)",
   "language": "python",
   "name": "python3"
  },
  "language_info": {
   "codemirror_mode": {
    "name": "ipython",
    "version": 3
   },
   "file_extension": ".py",
   "mimetype": "text/x-python",
   "name": "python",
   "nbconvert_exporter": "python",
   "pygments_lexer": "ipython3",
   "version": "3.9.12"
  }
 },
 "nbformat": 4,
 "nbformat_minor": 5
}
